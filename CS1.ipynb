{
  "nbformat": 4,
  "nbformat_minor": 0,
  "metadata": {
    "colab": {
      "provenance": [],
      "authorship_tag": "ABX9TyPvCbgDYTpHdPGFVg0lLA29"
    },
    "kernelspec": {
      "name": "python3",
      "display_name": "Python 3"
    },
    "language_info": {
      "name": "python"
    }
  },
  "cells": [
    {
      "cell_type": "code",
      "source": [
        "def caesar_cipher_encrypt(text, shift):\n",
        "    encrypted_text = \"\"\n",
        "    for char in text:\n",
        "        if char.isalpha():\n",
        "            shift_base = 65 if char.isupper() else 97\n",
        "            encrypted_char = chr((ord(char) - shift_base + shift) % 26 + shift_base)\n",
        "            encrypted_text += encrypted_char\n",
        "        else:\n",
        "            encrypted_text += char\n",
        "    return encrypted_text\n",
        "\n",
        "def caesar_cipher_decrypt(text, shift):\n",
        "    return caesar_cipher_encrypt(text, -shift)\n",
        "\n",
        "def main():\n",
        "    while True:\n",
        "        print(\"Caesar Cipher Program\")\n",
        "        print(\"1. Encrypt\")\n",
        "        print(\"2. Decrypt\")\n",
        "        print(\"3. Exit\")\n",
        "        choice = input(\"Enter your choice (1/2/3): \")\n",
        "\n",
        "        if choice == '1':\n",
        "            message = input(\"Enter the message to encrypt: \")\n",
        "            shift = int(input(\"Enter the shift value: \"))\n",
        "            encrypted_message = caesar_cipher_encrypt(message, shift)\n",
        "            print(f\"Encrypted Message: {encrypted_message}\")\n",
        "        elif choice == '2':\n",
        "            message = input(\"Enter the message to decrypt: \")\n",
        "            shift = int(input(\"Enter the shift value: \"))\n",
        "            decrypted_message = caesar_cipher_decrypt(message, shift)\n",
        "            print(f\"Decrypted Message: {decrypted_message}\")\n",
        "        elif choice == '3':\n",
        "            print(\"Exiting the program.\")\n",
        "            break\n",
        "        else:\n",
        "            print(\"Invalid choice. Please try again.\")\n",
        "\n",
        "if __name__ == \"__main__\":\n",
        "    main()\n"
      ],
      "metadata": {
        "colab": {
          "base_uri": "https://localhost:8080/"
        },
        "id": "NLgQRrd0XyHP",
        "outputId": "400af9e2-5def-43a7-ea93-a9ac7825b9f9"
      },
      "execution_count": 32,
      "outputs": [
        {
          "output_type": "stream",
          "name": "stdout",
          "text": [
            "Caesar Cipher Program\n",
            "1. Encrypt\n",
            "2. Decrypt\n",
            "3. Exit\n",
            "Enter your choice (1/2/3): 1\n",
            "Enter the message to encrypt: HI\n",
            "Enter the shift value: 5\n",
            "Encrypted Message: MN\n",
            "Caesar Cipher Program\n",
            "1. Encrypt\n",
            "2. Decrypt\n",
            "3. Exit\n",
            "Enter your choice (1/2/3): 2\n",
            "Enter the message to decrypt: MN\n",
            "Enter the shift value: 5\n",
            "Decrypted Message: HI\n",
            "Caesar Cipher Program\n",
            "1. Encrypt\n",
            "2. Decrypt\n",
            "3. Exit\n",
            "Enter your choice (1/2/3): 3\n",
            "Exiting the program.\n"
          ]
        }
      ]
    }
  ]
}