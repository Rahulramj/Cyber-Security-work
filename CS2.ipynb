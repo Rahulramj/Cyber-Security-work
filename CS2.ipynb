{
  "nbformat": 4,
  "nbformat_minor": 0,
  "metadata": {
    "colab": {
      "provenance": [],
      "authorship_tag": "ABX9TyNthxiu4yQoqf/GlhgBvoRi",
      "include_colab_link": true
    },
    "kernelspec": {
      "name": "python3",
      "display_name": "Python 3"
    },
    "language_info": {
      "name": "python"
    }
  },
  "cells": [
    {
      "cell_type": "markdown",
      "metadata": {
        "id": "view-in-github",
        "colab_type": "text"
      },
      "source": [
        "<a href=\"https://colab.research.google.com/github/Rahulramj/Cyber-Security-work/blob/main/CS2.ipynb\" target=\"_parent\"><img src=\"https://colab.research.google.com/assets/colab-badge.svg\" alt=\"Open In Colab\"/></a>"
      ]
    },
    {
      "cell_type": "code",
      "source": [
        "from PIL import Image\n",
        "\n",
        "def encrypt_image(input_image_path, output_image_path, shift_value):\n",
        "    image = Image.open(input_image_path)\n",
        "    pixels = list(image.getdata())\n",
        "    encrypted_pixels = [((r + shift_value) % 256, (g + shift_value) % 256, (b + shift_value) % 256) for r, g, b in pixels]\n",
        "\n",
        "    encrypted_image = Image.new(image.mode, image.size)\n",
        "    encrypted_image.putdata(encrypted_pixels)\n",
        "    encrypted_image.save(output_image_path)\n",
        "    print(f\"Image encrypted and saved to {output_image_path}\")\n",
        "\n",
        "def decrypt_image(input_image_path, output_image_path, shift_value):\n",
        "    image = Image.open(input_image_path)\n",
        "    pixels = list(image.getdata())\n",
        "    decrypted_pixels = [((r - shift_value) % 256, (g - shift_value) % 256, (b - shift_value) % 256) for r, g, b in pixels]\n",
        "\n",
        "    decrypted_image = Image.new(image.mode, image.size)\n",
        "    decrypted_image.putdata(decrypted_pixels)\n",
        "    decrypted_image.save(output_image_path)\n",
        "    print(f\"Image decrypted and saved to {output_image_path}\")\n",
        "\n",
        "def main():\n",
        "    while True:\n",
        "        print(\"Image Encryption Tool\")\n",
        "        print(\"1. Encrypt Image\")\n",
        "        print(\"2. Decrypt Image\")\n",
        "        print(\"3. Exit\")\n",
        "        choice = input(\"Enter your choice (1/2/3): \")\n",
        "\n",
        "        if choice == '1':\n",
        "            input_image_path = input(\"Enter the path to the image to encrypt: \")\n",
        "            output_image_path = input(\"Enter the path to save the encrypted image: \")\n",
        "            shift_value = int(input(\"Enter the shift value: \"))\n",
        "            encrypt_image(input_image_path, output_image_path, shift_value)\n",
        "        elif choice == '2':\n",
        "            input_image_path = input(\"Enter the path to the image to decrypt: \")\n",
        "            output_image_path = input(\"Enter the path to save the decrypted image: \")\n",
        "            shift_value = int(input(\"Enter the shift value: \"))\n",
        "            decrypt_image(input_image_path, output_image_path, shift_value)\n",
        "        elif choice == '3':\n",
        "            print(\"Exiting the program.\")\n",
        "            break\n",
        "        else:\n",
        "            print(\"Invalid choice. Please try again.\")\n",
        "\n",
        "if __name__ == \"__main__\":\n",
        "    main()\n"
      ],
      "metadata": {
        "colab": {
          "base_uri": "https://localhost:8080/"
        },
        "id": "JA3fTw2Lo0V8",
        "outputId": "dade5fe2-d510-40ec-9e9e-9db376918d7d"
      },
      "execution_count": 44,
      "outputs": [
        {
          "output_type": "stream",
          "name": "stdout",
          "text": [
            "Image Encryption Tool\n",
            "1. Encrypt Image\n",
            "2. Decrypt Image\n",
            "3. Exit\n",
            "Enter your choice (1/2/3): 3\n",
            "Exiting the program.\n"
          ]
        }
      ]
    }
  ]
}